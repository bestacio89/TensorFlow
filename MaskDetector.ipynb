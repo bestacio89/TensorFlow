{
  "nbformat": 4,
  "nbformat_minor": 0,
  "metadata": {
    "colab": {
      "provenance": [],
      "collapsed_sections": [
        "8BW9o_9rBt43",
        "zgbE8-UTCFIt",
        "YjOmVjVeCTcT",
        "7XDii1x3CcdO",
        "z4SenYEJClB4",
        "jIPH3VaVCvgh",
        "Og6JYcj1CyqF",
        "VabLnia_DGJS",
        "67SFQMznDQdB",
        "OkHyhnyRDXRD",
        "4qeowfZYRBdz"
      ],
      "authorship_tag": "ABX9TyMipB3gKempBI43yxvv5bwY",
      "include_colab_link": true
    },
    "kernelspec": {
      "name": "python3",
      "display_name": "Python 3"
    },
    "language_info": {
      "name": "python"
    }
  },
  "cells": [
    {
      "cell_type": "markdown",
      "metadata": {
        "id": "view-in-github",
        "colab_type": "text"
      },
      "source": [
        "<a href=\"https://colab.research.google.com/github/bestacio89/TensorFlow/blob/develop/MaskDetector.ipynb\" target=\"_parent\"><img src=\"https://colab.research.google.com/assets/colab-badge.svg\" alt=\"Open In Colab\"/></a>"
      ]
    },
    {
      "cell_type": "markdown",
      "source": [
        "#Library set up"
      ],
      "metadata": {
        "id": "8BW9o_9rBt43"
      }
    },
    {
      "cell_type": "code",
      "execution_count": 44,
      "metadata": {
        "id": "9lKyhm-yA_s6"
      },
      "outputs": [],
      "source": [
        "# Import TensorFlow and related libraries\n",
        "import tensorflow as tf\n",
        "from tensorflow.keras.preprocessing.image import ImageDataGenerator\n",
        "from tensorflow.keras.applications import MobileNetV2\n",
        "from tensorflow.keras.layers import Dense, Dropout, Flatten, GlobalAveragePooling2D\n",
        "from tensorflow.keras.models import Model\n",
        "from tensorflow.keras.optimizers import Adam\n",
        "# Other utility libraries\n",
        "import numpy as np\n",
        "import matplotlib.pyplot as plt\n",
        "import os\n",
        "import zipfile\n",
        "import glob\n",
        "import os\n",
        "import shutil\n",
        "from sklearn.model_selection import train_test_split\n",
        "import xml.etree.ElementTree as ET"
      ]
    },
    {
      "cell_type": "markdown",
      "source": [
        "#Preparing the dataset"
      ],
      "metadata": {
        "id": "zgbE8-UTCFIt"
      }
    },
    {
      "cell_type": "markdown",
      "source": [
        "##Unzipping and organising Directories"
      ],
      "metadata": {
        "id": "CGA-Yt_0Ouy7"
      }
    },
    {
      "cell_type": "code",
      "source": [
        "\n",
        "\n",
        "# Stage 1: Unzipping and Organizing Directories\n",
        "\n",
        "# Step 1: Unzip your dataset\n",
        "zip_path = './sample_data/archive (1).zip'  # Replace with your actual zip file path\n",
        "with zipfile.ZipFile(zip_path, 'r') as zip_ref:\n",
        "    zip_ref.extractall('/content/mask-dataset')  # Extract into this folder\n",
        "\n",
        "# Step 2: Define base directory and create directories for train and validation sets\n",
        "base_dir = '/content/mask-dataset/'\n",
        "train_dir = os.path.join(base_dir, 'train')\n",
        "val_dir = os.path.join(base_dir, 'val')\n",
        "\n",
        "# Create train and validation directories if they don't exist\n",
        "os.makedirs(train_dir, exist_ok=True)\n",
        "os.makedirs(val_dir, exist_ok=True)\n",
        "\n",
        "# Step 3: Create subdirectories for classes within train and val\n",
        "train_with_mask_dir = os.path.join(train_dir, 'with_mask')\n",
        "train_without_mask_dir = os.path.join(train_dir, 'without_mask')\n",
        "val_with_mask_dir = os.path.join(val_dir, 'with_mask')\n",
        "val_without_mask_dir = os.path.join(val_dir, 'without_mask')\n",
        "\n",
        "# Create subdirectories for each class if they don't exist\n",
        "os.makedirs(train_with_mask_dir, exist_ok=True)\n",
        "os.makedirs(train_without_mask_dir, exist_ok=True)\n",
        "os.makedirs(val_with_mask_dir, exist_ok=True)\n",
        "os.makedirs(val_without_mask_dir, exist_ok=True)\n",
        "\n",
        "print(\"Directories for train and validation sets have been created.\")\n"
      ],
      "metadata": {
        "colab": {
          "base_uri": "https://localhost:8080/"
        },
        "id": "sA-pfYAsCJV1",
        "outputId": "b1ff1e02-5351-48b6-8bde-0bf87d4ced7e"
      },
      "execution_count": 45,
      "outputs": [
        {
          "output_type": "stream",
          "name": "stdout",
          "text": [
            "Directories for train and validation sets have been created.\n"
          ]
        }
      ]
    },
    {
      "cell_type": "markdown",
      "source": [
        "##Preparing for dataset Split"
      ],
      "metadata": {
        "id": "YP7zZGHMPtq7"
      }
    },
    {
      "cell_type": "code",
      "source": [
        "\n",
        "\n",
        "# Stage 2: Preparing for Dataset Split\n",
        "\n",
        "# Step 1: Define the directory where images are located after extraction\n",
        "image_dir = os.path.join(base_dir, 'images')  # Replace 'images' with the actual subfolder if different\n",
        "annotations_dir = os.path.join(base_dir, 'annotations')  # Directory where the XML files are stored\n",
        "\n",
        "# Step 2: Get all image paths\n",
        "all_images = glob.glob(os.path.join(image_dir, '*.*'))\n",
        "\n",
        "# Step 3: Ensure there are images to split\n",
        "if len(all_images) > 0:\n",
        "    # Split images into 80% train and 20% validation\n",
        "    train_images, val_images = train_test_split(all_images, test_size=0.2, random_state=42)\n",
        "\n",
        "    print(f\"Dataset split into {len(train_images)} train images and {len(val_images)} validation images.\")\n",
        "else:\n",
        "    print(\"No images found in the specified directory.\")\n"
      ],
      "metadata": {
        "colab": {
          "base_uri": "https://localhost:8080/"
        },
        "id": "KIG3YUsyPsXi",
        "outputId": "21a5d15f-7e08-4ea1-ae9d-8484bef3be04"
      },
      "execution_count": 46,
      "outputs": [
        {
          "output_type": "stream",
          "name": "stdout",
          "text": [
            "Dataset split into 682 train images and 171 validation images.\n"
          ]
        }
      ]
    },
    {
      "cell_type": "markdown",
      "source": [
        "##Classifying and Moving Images"
      ],
      "metadata": {
        "id": "R6bMx_kMQDLT"
      }
    },
    {
      "cell_type": "code",
      "source": [
        "# Stage 3: Classifying and Moving Images\n",
        "\n",
        "# Step 1: Function to classify images based on corresponding XML file\n",
        "def classify_image_from_xml(image_path):\n",
        "    # Get the corresponding XML file path (assuming XML name matches image name, except extension)\n",
        "    xml_filename = os.path.splitext(os.path.basename(image_path))[0] + '.xml'\n",
        "    xml_path = os.path.join(annotations_dir, xml_filename)\n",
        "\n",
        "    if not os.path.exists(xml_path):\n",
        "        raise FileNotFoundError(f\"XML annotation file not found for {image_path}\")\n",
        "\n",
        "    # Parse the XML file to extract classification\n",
        "    tree = ET.parse(xml_path)\n",
        "    root = tree.getroot()\n",
        "\n",
        "    # Loop through all objects in the XML and check if any of them has 'with_mask'\n",
        "    for object_tag in root.iter('object'):\n",
        "        class_name = object_tag.find('name').text.strip().lower()\n",
        "        if 'with_mask' in class_name:\n",
        "            return 'with_mask'\n",
        "        elif 'without_mask' in class_name:\n",
        "            return 'without_mask'\n",
        "\n",
        "    # If no classification found in XML, return 'without_mask' as the default (or raise an error)\n",
        "    return 'without_mask'\n",
        "\n",
        "# Step 2: Move images to respective class folders within train and val directories\n",
        "for img_path in train_images:\n",
        "    try:\n",
        "        class_folder = classify_image_from_xml(img_path)\n",
        "        if class_folder == 'with_mask':\n",
        "            shutil.move(img_path, os.path.join(train_with_mask_dir, os.path.basename(img_path)))\n",
        "        else:\n",
        "            shutil.move(img_path, os.path.join(train_without_mask_dir, os.path.basename(img_path)))\n",
        "    except (FileNotFoundError, ValueError) as e:\n",
        "        print(e)  # Handle or log invalid images here\n",
        "\n",
        "for img_path in val_images:\n",
        "    try:\n",
        "        class_folder = classify_image_from_xml(img_path)\n",
        "        if class_folder == 'with_mask':\n",
        "            shutil.move(img_path, os.path.join(val_with_mask_dir, os.path.basename(img_path)))\n",
        "        else:\n",
        "            shutil.move(img_path, os.path.join(val_without_mask_dir, os.path.basename(img_path)))\n",
        "    except (FileNotFoundError, ValueError) as e:\n",
        "        print(e)  # Handle or log invalid images here\n",
        "\n",
        "print(\"Images classified and moved to respective train/validation directories.\")\n"
      ],
      "metadata": {
        "colab": {
          "base_uri": "https://localhost:8080/"
        },
        "id": "V5HK4EaoQLji",
        "outputId": "10cadfd0-942c-4de1-8006-b671fec043fb"
      },
      "execution_count": 47,
      "outputs": [
        {
          "output_type": "stream",
          "name": "stdout",
          "text": [
            "Images classified and moved to respective train/validation directories.\n"
          ]
        }
      ]
    },
    {
      "cell_type": "markdown",
      "source": [
        "#Data Augmentation and Preprocessing"
      ],
      "metadata": {
        "id": "YjOmVjVeCTcT"
      }
    },
    {
      "cell_type": "code",
      "source": [
        "# Data augmentation for training\n",
        "train_datagen = ImageDataGenerator(\n",
        "    rescale=1.0/255,\n",
        "    rotation_range=20,\n",
        "    zoom_range=0.15,\n",
        "    width_shift_range=0.2,\n",
        "    height_shift_range=0.2,\n",
        "    shear_range=0.15,\n",
        "    horizontal_flip=True,\n",
        "    fill_mode=\"nearest\"\n",
        ")\n",
        "\n",
        "# Only rescaling for validation\n",
        "val_datagen = ImageDataGenerator(rescale=1.0/255)\n",
        "\n",
        "# Set up data generators\n",
        "train_generator = train_datagen.flow_from_directory(\n",
        "    train_dir,\n",
        "    target_size=(224, 224),\n",
        "    batch_size=32,\n",
        "    class_mode='binary'\n",
        ")\n",
        "\n",
        "val_generator = val_datagen.flow_from_directory(\n",
        "    val_dir,\n",
        "    target_size=(224, 224),\n",
        "    batch_size=32,\n",
        "    class_mode='binary'\n",
        ")\n",
        "\n",
        "print(\"Train generator: \", train_generator)\n",
        "print(\"Validation generator: \", val_generator)\n",
        "\n",
        "print(\"Training samples:\", train_generator.samples)\n",
        "print(\"Validation samples:\", val_generator.samples)\n"
      ],
      "metadata": {
        "colab": {
          "base_uri": "https://localhost:8080/"
        },
        "id": "xuX6BEwkCYnH",
        "outputId": "f7dcfb8b-dadd-414a-eff3-782bf1d8d0bb"
      },
      "execution_count": 48,
      "outputs": [
        {
          "output_type": "stream",
          "name": "stdout",
          "text": [
            "Found 682 images belonging to 2 classes.\n",
            "Found 171 images belonging to 2 classes.\n",
            "Train generator:  <keras.src.legacy.preprocessing.image.DirectoryIterator object at 0x7f52b87db6a0>\n",
            "Validation generator:  <keras.src.legacy.preprocessing.image.DirectoryIterator object at 0x7f52bbec9cf0>\n",
            "Training samples: 682\n",
            "Validation samples: 171\n"
          ]
        }
      ]
    },
    {
      "cell_type": "markdown",
      "source": [
        "#Building Model architecture"
      ],
      "metadata": {
        "id": "7XDii1x3CcdO"
      }
    },
    {
      "cell_type": "code",
      "source": [
        "# Load MobileNetV2 and set it to non-trainable\n",
        "base_model = MobileNetV2(weights=\"imagenet\", include_top=False, input_shape=(224, 224, 3))\n",
        "base_model.trainable = False  # Freeze the base model\n",
        "\n",
        "# Add custom layers on top\n",
        "x = base_model.output\n",
        "x = GlobalAveragePooling2D()(x)\n",
        "x = Dense(128, activation=\"relu\")(x)\n",
        "x = Dropout(0.5)(x)\n",
        "predictions = Dense(1, activation=\"sigmoid\")(x)\n",
        "\n",
        "# Final model\n",
        "model = Model(inputs=base_model.input, outputs=predictions)\n"
      ],
      "metadata": {
        "id": "K5J05olhCguw"
      },
      "execution_count": 49,
      "outputs": []
    },
    {
      "cell_type": "markdown",
      "source": [
        "#Compiling the model\n"
      ],
      "metadata": {
        "id": "z4SenYEJClB4"
      }
    },
    {
      "cell_type": "code",
      "source": [
        "\n",
        "\n",
        "# Use `learning_rate` instead of `lr`\n",
        "model.compile(optimizer=Adam(learning_rate=1e-4), loss='binary_crossentropy', metrics=['accuracy'])\n",
        "\n"
      ],
      "metadata": {
        "id": "UGUNtOt0CmdP"
      },
      "execution_count": 50,
      "outputs": []
    },
    {
      "cell_type": "markdown",
      "source": [
        "#Training the model"
      ],
      "metadata": {
        "id": "jIPH3VaVCvgh"
      }
    },
    {
      "cell_type": "code",
      "source": [
        "# Train the model\n",
        "history = model.fit(\n",
        "    train_generator,\n",
        "    steps_per_epoch=train_generator.samples // train_generator.batch_size,\n",
        "    validation_data=val_generator,\n",
        "    validation_steps=val_generator.samples // val_generator.batch_size,\n",
        "    epochs=10  # adjust based on preference\n",
        ")\n"
      ],
      "metadata": {
        "colab": {
          "base_uri": "https://localhost:8080/"
        },
        "id": "VAy6Od0hCzlf",
        "outputId": "2a1140ab-444e-48bb-cfd2-b6a66cbb1cba"
      },
      "execution_count": 51,
      "outputs": [
        {
          "output_type": "stream",
          "name": "stdout",
          "text": [
            "Epoch 1/10\n"
          ]
        },
        {
          "output_type": "stream",
          "name": "stderr",
          "text": [
            "/usr/local/lib/python3.10/dist-packages/keras/src/trainers/data_adapters/py_dataset_adapter.py:121: UserWarning: Your `PyDataset` class should call `super().__init__(**kwargs)` in its constructor. `**kwargs` can include `workers`, `use_multiprocessing`, `max_queue_size`. Do not pass these arguments to `fit()`, as they will be ignored.\n",
            "  self._warn_if_super_not_called()\n"
          ]
        },
        {
          "output_type": "stream",
          "name": "stdout",
          "text": [
            "\u001b[1m21/21\u001b[0m \u001b[32m━━━━━━━━━━━━━━━━━━━━\u001b[0m\u001b[37m\u001b[0m \u001b[1m59s\u001b[0m 2s/step - accuracy: 0.7248 - loss: 0.5684 - val_accuracy: 0.8000 - val_loss: 0.5549\n",
            "Epoch 2/10\n",
            "\u001b[1m 1/21\u001b[0m \u001b[37m━━━━━━━━━━━━━━━━━━━━\u001b[0m \u001b[1m22s\u001b[0m 1s/step - accuracy: 0.8438 - loss: 0.5593"
          ]
        },
        {
          "output_type": "stream",
          "name": "stderr",
          "text": [
            "/usr/lib/python3.10/contextlib.py:153: UserWarning: Your input ran out of data; interrupting training. Make sure that your dataset or generator can generate at least `steps_per_epoch * epochs` batches. You may need to use the `.repeat()` function when building your dataset.\n",
            "  self.gen.throw(typ, value, traceback)\n"
          ]
        },
        {
          "output_type": "stream",
          "name": "stdout",
          "text": [
            "\b\b\b\b\b\b\b\b\b\b\b\b\b\b\b\b\b\b\b\b\b\b\b\b\b\b\b\b\b\b\b\b\b\b\b\b\b\b\b\b\b\b\b\b\b\b\b\b\b\b\b\b\b\b\b\b\b\b\b\b\b\b\b\b\b\b\b\b\b\b\b\b\r\u001b[1m21/21\u001b[0m \u001b[32m━━━━━━━━━━━━━━━━━━━━\u001b[0m\u001b[37m\u001b[0m \u001b[1m2s\u001b[0m 25ms/step - accuracy: 0.8438 - loss: 0.5593 - val_accuracy: 0.7273 - val_loss: 0.5592\n",
            "Epoch 3/10\n",
            "\u001b[1m21/21\u001b[0m \u001b[32m━━━━━━━━━━━━━━━━━━━━\u001b[0m\u001b[37m\u001b[0m \u001b[1m76s\u001b[0m 2s/step - accuracy: 0.8096 - loss: 0.5027 - val_accuracy: 0.8125 - val_loss: 0.4634\n",
            "Epoch 4/10\n",
            "\u001b[1m21/21\u001b[0m \u001b[32m━━━━━━━━━━━━━━━━━━━━\u001b[0m\u001b[37m\u001b[0m \u001b[1m1s\u001b[0m 18ms/step - accuracy: 0.7812 - loss: 0.4908 - val_accuracy: 0.7273 - val_loss: 0.6062\n",
            "Epoch 5/10\n",
            "\u001b[1m21/21\u001b[0m \u001b[32m━━━━━━━━━━━━━━━━━━━━\u001b[0m\u001b[37m\u001b[0m \u001b[1m49s\u001b[0m 2s/step - accuracy: 0.8210 - loss: 0.4802 - val_accuracy: 0.8188 - val_loss: 0.4453\n",
            "Epoch 6/10\n",
            "\u001b[1m21/21\u001b[0m \u001b[32m━━━━━━━━━━━━━━━━━━━━\u001b[0m\u001b[37m\u001b[0m \u001b[1m1s\u001b[0m 19ms/step - accuracy: 0.8125 - loss: 0.4992 - val_accuracy: 0.8182 - val_loss: 0.5361\n",
            "Epoch 7/10\n",
            "\u001b[1m21/21\u001b[0m \u001b[32m━━━━━━━━━━━━━━━━━━━━\u001b[0m\u001b[37m\u001b[0m \u001b[1m50s\u001b[0m 2s/step - accuracy: 0.8217 - loss: 0.4347 - val_accuracy: 0.8313 - val_loss: 0.4158\n",
            "Epoch 8/10\n",
            "\u001b[1m21/21\u001b[0m \u001b[32m━━━━━━━━━━━━━━━━━━━━\u001b[0m\u001b[37m\u001b[0m \u001b[1m1s\u001b[0m 19ms/step - accuracy: 0.7812 - loss: 0.4474 - val_accuracy: 0.8182 - val_loss: 0.6253\n",
            "Epoch 9/10\n",
            "\u001b[1m21/21\u001b[0m \u001b[32m━━━━━━━━━━━━━━━━━━━━\u001b[0m\u001b[37m\u001b[0m \u001b[1m50s\u001b[0m 2s/step - accuracy: 0.8252 - loss: 0.4403 - val_accuracy: 0.8500 - val_loss: 0.4141\n",
            "Epoch 10/10\n",
            "\u001b[1m21/21\u001b[0m \u001b[32m━━━━━━━━━━━━━━━━━━━━\u001b[0m\u001b[37m\u001b[0m \u001b[1m2s\u001b[0m 18ms/step - accuracy: 0.8438 - loss: 0.3620 - val_accuracy: 0.8182 - val_loss: 0.4541\n"
          ]
        }
      ]
    },
    {
      "cell_type": "markdown",
      "source": [
        "#Evaluating the Model"
      ],
      "metadata": {
        "id": "Og6JYcj1CyqF"
      }
    },
    {
      "cell_type": "code",
      "source": [
        "# Plot training & validation accuracy/loss\n",
        "acc = history.history['accuracy']\n",
        "val_acc = history.history['val_accuracy']\n",
        "loss = history.history['loss']\n",
        "val_loss = history.history['val_loss']\n",
        "\n",
        "plt.figure(figsize=(12, 4))\n",
        "plt.subplot(1, 2, 1)\n",
        "plt.plot(acc, label='Training Accuracy')\n",
        "plt.plot(val_acc, label='Validation Accuracy')\n",
        "plt.legend()\n",
        "plt.title('Training and Validation Accuracy')\n",
        "\n",
        "plt.subplot(1, 2, 2)\n",
        "plt.plot(loss, label='Training Loss')\n",
        "plt.plot(val_loss, label='Validation Loss')\n",
        "plt.legend()\n",
        "plt.title('Training and Validation Loss')\n",
        "plt.show()\n"
      ],
      "metadata": {
        "id": "CdVHYJhZDAlw",
        "colab": {
          "base_uri": "https://localhost:8080/",
          "height": 391
        },
        "outputId": "31a71ee1-7bd6-43f1-e444-35d75353519b"
      },
      "execution_count": 52,
      "outputs": [
        {
          "output_type": "display_data",
          "data": {
            "text/plain": [
              "<Figure size 1200x400 with 2 Axes>"
            ],
            "image/png": "[encoded data removed]"
          },
          "metadata": {}
        }
      ]
    },
    {
      "cell_type": "markdown",
      "source": [
        "#Fine-tuning the model"
      ],
      "metadata": {
        "id": "VabLnia_DGJS"
      }
    },
    {
      "cell_type": "code",
      "source": [
        "# Unfreeze some layers in the base model for fine-tuning\n",
        "base_model.trainable = True\n",
        "for layer in base_model.layers[:100]:  # Freeze the first 100 layers\n",
        "    layer.trainable = False\n",
        "\n",
        "# Recompile and train again with a smaller learning rate\n",
        "model.compile(optimizer=Adam(learning_rate=1e-5), loss='binary_crossentropy', metrics=['accuracy'])\n",
        "\n",
        "# Fine-tune\n",
        "history_fine = model.fit(\n",
        "    train_generator,\n",
        "    steps_per_epoch=train_generator.samples // train_generator.batch_size,\n",
        "    validation_data=val_generator,\n",
        "    validation_steps=val_generator.samples // val_generator.batch_size,\n",
        "    epochs=5  # fewer epochs for fine-tuning\n",
        ")\n"
      ],
      "metadata": {
        "id": "Rv1w0frDDNA3",
        "colab": {
          "base_uri": "https://localhost:8080/"
        },
        "outputId": "8aae8b5f-1977-4b3f-8400-6eb6e3a702ac"
      },
      "execution_count": 54,
      "outputs": [
        {
          "output_type": "stream",
          "name": "stdout",
          "text": [
            "Epoch 1/5\n",
            "\u001b[1m21/21\u001b[0m \u001b[32m━━━━━━━━━━━━━━━━━━━━\u001b[0m\u001b[37m\u001b[0m \u001b[1m92s\u001b[0m 3s/step - accuracy: 0.8609 - loss: 0.3924 - val_accuracy: 0.8562 - val_loss: 0.4002\n",
            "Epoch 2/5\n",
            "\u001b[1m 1/21\u001b[0m \u001b[37m━━━━━━━━━━━━━━━━━━━━\u001b[0m \u001b[1m45s\u001b[0m 2s/step - accuracy: 0.7812 - loss: 0.4871"
          ]
        },
        {
          "output_type": "stream",
          "name": "stderr",
          "text": [
            "/usr/lib/python3.10/contextlib.py:153: UserWarning: Your input ran out of data; interrupting training. Make sure that your dataset or generator can generate at least `steps_per_epoch * epochs` batches. You may need to use the `.repeat()` function when building your dataset.\n",
            "  self.gen.throw(typ, value, traceback)\n"
          ]
        },
        {
          "output_type": "stream",
          "name": "stdout",
          "text": [
            "\b\b\b\b\b\b\b\b\b\b\b\b\b\b\b\b\b\b\b\b\b\b\b\b\b\b\b\b\b\b\b\b\b\b\b\b\b\b\b\b\b\b\b\b\b\b\b\b\b\b\b\b\b\b\b\b\b\b\b\b\b\b\b\b\b\b\b\b\b\b\b\b\r\u001b[1m21/21\u001b[0m \u001b[32m━━━━━━━━━━━━━━━━━━━━\u001b[0m\u001b[37m\u001b[0m \u001b[1m24s\u001b[0m 1s/step - accuracy: 0.7812 - loss: 0.4871 - val_accuracy: 0.8182 - val_loss: 0.6907\n",
            "Epoch 3/5\n",
            "\u001b[1m21/21\u001b[0m \u001b[32m━━━━━━━━━━━━━━━━━━━━\u001b[0m\u001b[37m\u001b[0m \u001b[1m67s\u001b[0m 3s/step - accuracy: 0.8793 - loss: 0.3532 - val_accuracy: 0.8687 - val_loss: 0.4200\n",
            "Epoch 4/5\n",
            "\u001b[1m21/21\u001b[0m \u001b[32m━━━━━━━━━━━━━━━━━━━━\u001b[0m\u001b[37m\u001b[0m \u001b[1m2s\u001b[0m 19ms/step - accuracy: 0.9062 - loss: 0.3460 - val_accuracy: 0.9091 - val_loss: 0.3604\n",
            "Epoch 5/5\n",
            "\u001b[1m21/21\u001b[0m \u001b[32m━━━━━━━━━━━━━━━━━━━━\u001b[0m\u001b[37m\u001b[0m \u001b[1m67s\u001b[0m 3s/step - accuracy: 0.8740 - loss: 0.3634 - val_accuracy: 0.8813 - val_loss: 0.3884\n"
          ]
        }
      ]
    },
    {
      "cell_type": "markdown",
      "source": [
        "#Testing the Model on Custom Images"
      ],
      "metadata": {
        "id": "67SFQMznDQdB"
      }
    },
    {
      "cell_type": "code",
      "source": [
        "from tensorflow.keras.preprocessing import image\n",
        "\n",
        "def preprocess_and_predict(img_path):\n",
        "    img = image.load_img(img_path, target_size=(224, 224))\n",
        "    img_array = image.img_to_array(img) / 255.0\n",
        "    img_array = np.expand_dims(img_array, axis=0)\n",
        "\n",
        "    prediction = model.predict(img_array)\n",
        "    if prediction < 0.5:\n",
        "        print(\"No mask detected\")\n",
        "    else:\n",
        "        print(\"Mask detected\")\n",
        "\n",
        "# Test with an image\n",
        "test_image_path = './sample_data/thebeardman.jpeg'  # replace with your image path\n",
        "preprocess_and_predict(test_image_path)\n"
      ],
      "metadata": {
        "id": "L6pSOoFSDUxc",
        "colab": {
          "base_uri": "https://localhost:8080/"
        },
        "outputId": "e96481ca-3e12-457e-fff1-4b8be0a4cb2a"
      },
      "execution_count": 56,
      "outputs": [
        {
          "output_type": "stream",
          "name": "stdout",
          "text": [
            "\u001b[1m1/1\u001b[0m \u001b[32m━━━━━━━━━━━━━━━━━━━━\u001b[0m\u001b[37m\u001b[0m \u001b[1m1s\u001b[0m 1s/step\n",
            "No mask detected\n"
          ]
        }
      ]
    },
    {
      "cell_type": "markdown",
      "source": [
        "#Saving model"
      ],
      "metadata": {
        "id": "OkHyhnyRDXRD"
      }
    },
    {
      "cell_type": "code",
      "source": [
        "model.save(\"mask_detector_model.h5\")\n"
      ],
      "metadata": {
        "id": "uQR5DmJODTNV",
        "colab": {
          "base_uri": "https://localhost:8080/"
        },
        "outputId": "4fbd943d-8ba7-4a48-fe14-678cdda197ad"
      },
      "execution_count": 57,
      "outputs": [
        {
          "output_type": "stream",
          "name": "stderr",
          "text": [
            "WARNING:absl:You are saving your model as an HDF5 file via `model.save()` or `keras.saving.save_model(model)`. This file format is considered legacy. We recommend using instead the native Keras format, e.g. `model.save('my_model.keras')` or `keras.saving.save_model(model, 'my_model.keras')`. \n"
          ]
        }
      ]
    },
    {
      "cell_type": "markdown",
      "source": [
        "#Utilities"
      ],
      "metadata": {
        "id": "4qeowfZYRBdz"
      }
    },
    {
      "cell_type": "code",
      "source": [
        "# Base directory\n",
        "base_dir = '/content/'\n",
        "\n",
        "# The folder to exclude from deletion\n",
        "exclude_folder = 'sample_data'\n",
        "\n",
        "# Walk through the base directory\n",
        "for root, dirs, files in os.walk(base_dir, topdown=False):\n",
        "    # Check if the folder is the one we need to exclude\n",
        "    if exclude_folder in dirs:\n",
        "        dirs.remove(exclude_folder)  # This will prevent the exclude folder from being deleted\n",
        "\n",
        "    # Delete all files in the directory\n",
        "    for file in files:\n",
        "        file_path = os.path.join(root, file)\n",
        "        os.remove(file_path)  # Delete the file\n",
        "\n",
        "    # Delete subdirectories (except for the excluded one)\n",
        "    for dir in dirs:\n",
        "        dir_path = os.path.join(root, dir)\n",
        "        shutil.rmtree(dir_path)  # Delete the subdirectory\n",
        "\n",
        "print(\"All directories and files (except 'sample_data') have been deleted.\")\n"
      ],
      "metadata": {
        "colab": {
          "base_uri": "https://localhost:8080/"
        },
        "id": "8rq0muUrN8cm",
        "outputId": "4c3bef8b-3af3-4bbb-d54a-981c87b76515"
      },
      "execution_count": 42,
      "outputs": [
        {
          "output_type": "stream",
          "name": "stdout",
          "text": [
            "All directories and files (except 'sample_data') have been deleted.\n"
          ]
        }
      ]
    }
  ]
}